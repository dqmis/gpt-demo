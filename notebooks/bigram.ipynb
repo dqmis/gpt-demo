{
 "cells": [
  {
   "cell_type": "code",
   "execution_count": 8,
   "metadata": {},
   "outputs": [],
   "source": [
    "# Importing the libraries\n",
    "\n",
    "from typing import Optional, Tuple, List\n",
    "\n",
    "import torch\n",
    "import torch.nn as nn\n",
    "from torch.nn import functional as F"
   ]
  },
  {
   "cell_type": "code",
   "execution_count": 2,
   "metadata": {},
   "outputs": [
    {
     "data": {
      "text/plain": [
       "<torch._C.Generator at 0x12ab7f370>"
      ]
     },
     "execution_count": 2,
     "metadata": {},
     "output_type": "execute_result"
    }
   ],
   "source": [
    "torch.manual_seed(1337)"
   ]
  },
  {
   "cell_type": "code",
   "execution_count": 3,
   "metadata": {},
   "outputs": [
    {
     "name": "stdout",
     "output_type": "stream",
     "text": [
      "First Citizen:\n",
      "Before we proceed any further, hear me speak.\n",
      "\n",
      "All:\n",
      "Speak, speak.\n",
      "\n",
      "First Citizen:\n",
      "You are all resolved rather to die than to famish?\n",
      "\n",
      "All:\n",
      "Resolved. resolved.\n",
      "\n",
      "First Citizen:\n",
      "First, you know Caius Marcius is chief enemy to the people.\n",
      "\n",
      "All:\n",
      "We know't, we know't.\n",
      "\n",
      "First Citizen:\n",
      "Let us kill him, and we'll have corn at our own price.\n",
      "Is't a verdict?\n",
      "\n",
      "All:\n",
      "No more talking on't; let it be done: away, away!\n",
      "\n",
      "Second Citizen:\n",
      "One word, good citizens.\n",
      "\n",
      "First Citizen:\n",
      "We are accounted poor citizens, the patricians good.\n",
      "What authority surfeits on would relieve us: if they\n",
      "would yield us but the superfluity, while it were\n",
      "wholesome, we might guess they relieved us humanely;\n",
      "but they think we are too dear: the leanness that\n",
      "afflicts us, the object of our misery, is as an\n",
      "inventory to particularise their abundance; our\n",
      "sufferance is a gain to them Let us revenge this with\n",
      "our pikes, ere we become rakes: for the gods know I\n",
      "speak this in hunger for bread, not in thirst for revenge.\n",
      "\n",
      "\n"
     ]
    }
   ],
   "source": [
    "# Loading and printing the first 1000 characters of the text\n",
    "\n",
    "with open(\"../data/tinyshakespeare.txt\", \"r\") as f:\n",
    "    text = f.read()\n",
    "\n",
    "print(text[:1000])"
   ]
  },
  {
   "cell_type": "code",
   "execution_count": 9,
   "metadata": {},
   "outputs": [],
   "source": [
    "# Extracting the vocabulary\n",
    "chars = sorted(list(set(text)))\n",
    "vocab_size = len(chars)"
   ]
  },
  {
   "cell_type": "code",
   "execution_count": 10,
   "metadata": {},
   "outputs": [
    {
     "name": "stdout",
     "output_type": "stream",
     "text": [
      "[20, 43, 50, 50, 53, 6, 1, 57, 58, 59, 42, 43, 52, 58, 57, 2]\n",
      "Hello, students!\n"
     ]
    }
   ],
   "source": [
    "# Creating a dictionary to map the characters to integers (tokenizers)\n",
    "stoi = {ch: i for i, ch in enumerate(chars)}\n",
    "itos = {i: ch for i, ch in enumerate(chars)}\n",
    "\n",
    "def encode(text: str) -> List[int]:\n",
    "    return [stoi[ch] for ch in text]\n",
    "\n",
    "def decode(text: List[int]) -> str:\n",
    "    return \"\".join([itos[ch] for ch in text])\n",
    "\n",
    "print(encode(\"Hello, students!\"))\n",
    "print(decode(encode(\"Hello, students!\")))"
   ]
  },
  {
   "cell_type": "code",
   "execution_count": 11,
   "metadata": {},
   "outputs": [
    {
     "data": {
      "text/plain": [
       "tensor([18, 47, 56, 57, 58,  1, 15, 47, 58, 47, 64, 43, 52, 10,  0, 14, 43, 44,\n",
       "        53, 56, 43,  1, 61, 43,  1, 54, 56, 53, 41, 43, 43, 42,  1, 39, 52, 63,\n",
       "         1, 44, 59, 56, 58, 46, 43, 56,  6,  1, 46, 43, 39, 56,  1, 51, 43,  1,\n",
       "        57, 54, 43, 39, 49,  8,  0,  0, 13, 50, 50, 10,  0, 31, 54, 43, 39, 49,\n",
       "         6,  1, 57, 54, 43, 39, 49,  8,  0,  0, 18, 47, 56, 57, 58,  1, 15, 47,\n",
       "        58, 47, 64, 43, 52, 10,  0, 37, 53, 59,  1, 39, 56, 43,  1, 39, 50, 50,\n",
       "         1, 56, 43, 57, 53, 50, 60, 43, 42,  1, 56, 39, 58, 46, 43, 56,  1, 58,\n",
       "        53,  1, 42, 47, 43,  1, 58, 46, 39, 52,  1, 58, 53,  1, 44, 39, 51, 47,\n",
       "        57, 46, 12,  0,  0, 13, 50, 50, 10,  0, 30, 43, 57, 53, 50, 60, 43, 42,\n",
       "         8,  1, 56, 43, 57, 53, 50, 60, 43, 42,  8,  0,  0, 18, 47, 56, 57, 58,\n",
       "         1, 15, 47, 58, 47, 64, 43, 52, 10,  0, 18, 47, 56, 57, 58,  6,  1, 63,\n",
       "        53, 59,  1, 49, 52, 53, 61,  1, 15, 39, 47, 59, 57,  1, 25, 39, 56, 41,\n",
       "        47, 59, 57,  1, 47, 57,  1, 41, 46, 47, 43, 44,  1, 43, 52, 43, 51, 63,\n",
       "         1, 58, 53,  1, 58, 46, 43,  1, 54, 43, 53, 54, 50, 43,  8,  0,  0, 13,\n",
       "        50, 50, 10,  0, 35, 43,  1, 49, 52, 53, 61,  5, 58,  6,  1, 61, 43,  1,\n",
       "        49, 52, 53, 61,  5, 58,  8,  0,  0, 18, 47, 56, 57, 58,  1, 15, 47, 58,\n",
       "        47, 64, 43, 52, 10,  0, 24, 43, 58,  1, 59, 57,  1, 49, 47, 50, 50,  1,\n",
       "        46, 47, 51,  6,  1, 39, 52, 42,  1, 61, 43,  5, 50, 50,  1, 46, 39, 60,\n",
       "        43,  1, 41, 53, 56, 52,  1, 39, 58,  1, 53, 59, 56,  1, 53, 61, 52,  1,\n",
       "        54, 56, 47, 41, 43,  8,  0, 21, 57,  5, 58,  1, 39,  1, 60, 43, 56, 42,\n",
       "        47, 41, 58, 12,  0,  0, 13, 50, 50, 10,  0, 26, 53,  1, 51, 53, 56, 43,\n",
       "         1, 58, 39, 50, 49, 47, 52, 45,  1, 53, 52,  5, 58, 11,  1, 50, 43, 58,\n",
       "         1, 47, 58,  1, 40, 43,  1, 42, 53, 52, 43, 10,  1, 39, 61, 39, 63,  6,\n",
       "         1, 39, 61, 39, 63,  2,  0,  0, 31, 43, 41, 53, 52, 42,  1, 15, 47, 58,\n",
       "        47, 64, 43, 52, 10,  0, 27, 52, 43,  1, 61, 53, 56, 42,  6,  1, 45, 53,\n",
       "        53, 42,  1, 41, 47, 58, 47, 64, 43, 52, 57,  8,  0,  0, 18, 47, 56, 57,\n",
       "        58,  1, 15, 47, 58, 47, 64, 43, 52, 10,  0, 35, 43,  1, 39, 56, 43,  1,\n",
       "        39, 41, 41, 53, 59, 52, 58, 43, 42,  1, 54, 53, 53, 56,  1, 41, 47, 58,\n",
       "        47, 64, 43, 52, 57,  6,  1, 58, 46, 43,  1, 54, 39, 58, 56, 47, 41, 47,\n",
       "        39, 52, 57,  1, 45, 53, 53, 42,  8,  0, 35, 46, 39, 58,  1, 39, 59, 58,\n",
       "        46, 53, 56, 47, 58, 63,  1, 57, 59, 56, 44, 43, 47, 58, 57,  1, 53, 52,\n",
       "         1, 61, 53, 59, 50, 42,  1, 56, 43, 50, 47, 43, 60, 43,  1, 59, 57, 10,\n",
       "         1, 47, 44,  1, 58, 46, 43, 63,  0, 61, 53, 59, 50, 42,  1, 63, 47, 43,\n",
       "        50, 42,  1, 59, 57,  1, 40, 59, 58,  1, 58, 46, 43,  1, 57, 59, 54, 43,\n",
       "        56, 44, 50, 59, 47, 58, 63,  6,  1, 61, 46, 47, 50, 43,  1, 47, 58,  1,\n",
       "        61, 43, 56, 43,  0, 61, 46, 53, 50, 43, 57, 53, 51, 43,  6,  1, 61, 43,\n",
       "         1, 51, 47, 45, 46, 58,  1, 45, 59, 43, 57, 57,  1, 58, 46, 43, 63,  1,\n",
       "        56, 43, 50, 47, 43, 60, 43, 42,  1, 59, 57,  1, 46, 59, 51, 39, 52, 43,\n",
       "        50, 63, 11,  0, 40, 59, 58,  1, 58, 46, 43, 63,  1, 58, 46, 47, 52, 49,\n",
       "         1, 61, 43,  1, 39, 56, 43,  1, 58, 53, 53,  1, 42, 43, 39, 56, 10,  1,\n",
       "        58, 46, 43,  1, 50, 43, 39, 52, 52, 43, 57, 57,  1, 58, 46, 39, 58,  0,\n",
       "        39, 44, 44, 50, 47, 41, 58, 57,  1, 59, 57,  6,  1, 58, 46, 43,  1, 53,\n",
       "        40, 48, 43, 41, 58,  1, 53, 44,  1, 53, 59, 56,  1, 51, 47, 57, 43, 56,\n",
       "        63,  6,  1, 47, 57,  1, 39, 57,  1, 39, 52,  0, 47, 52, 60, 43, 52, 58,\n",
       "        53, 56, 63,  1, 58, 53,  1, 54, 39, 56, 58, 47, 41, 59, 50, 39, 56, 47,\n",
       "        57, 43,  1, 58, 46, 43, 47, 56,  1, 39, 40, 59, 52, 42, 39, 52, 41, 43,\n",
       "        11,  1, 53, 59, 56,  0, 57, 59, 44, 44, 43, 56, 39, 52, 41, 43,  1, 47,\n",
       "        57,  1, 39,  1, 45, 39, 47, 52,  1, 58, 53,  1, 58, 46, 43, 51,  1, 24,\n",
       "        43, 58,  1, 59, 57,  1, 56, 43, 60, 43, 52, 45, 43,  1, 58, 46, 47, 57,\n",
       "         1, 61, 47, 58, 46,  0, 53, 59, 56,  1, 54, 47, 49, 43, 57,  6,  1, 43,\n",
       "        56, 43,  1, 61, 43,  1, 40, 43, 41, 53, 51, 43,  1, 56, 39, 49, 43, 57,\n",
       "        10,  1, 44, 53, 56,  1, 58, 46, 43,  1, 45, 53, 42, 57,  1, 49, 52, 53,\n",
       "        61,  1, 21,  0, 57, 54, 43, 39, 49,  1, 58, 46, 47, 57,  1, 47, 52,  1,\n",
       "        46, 59, 52, 45, 43, 56,  1, 44, 53, 56,  1, 40, 56, 43, 39, 42,  6,  1,\n",
       "        52, 53, 58,  1, 47, 52,  1, 58, 46, 47, 56, 57, 58,  1, 44, 53, 56,  1,\n",
       "        56, 43, 60, 43, 52, 45, 43,  8,  0,  0])"
      ]
     },
     "execution_count": 11,
     "metadata": {},
     "output_type": "execute_result"
    }
   ],
   "source": [
    "# Encoding part of the text\n",
    "\n",
    "data = torch.tensor(encode(text[:1000]), dtype=torch.int64)\n",
    "data"
   ]
  },
  {
   "cell_type": "code",
   "execution_count": 32,
   "metadata": {},
   "outputs": [],
   "source": [
    "# Encoding the whole text\n",
    "data = torch.tensor(encode(text), dtype=torch.int64)"
   ]
  },
  {
   "cell_type": "code",
   "execution_count": 22,
   "metadata": {},
   "outputs": [],
   "source": [
    "# Splitting the data into training and validation sets\n",
    "n = int(len(data) * 0.9)\n",
    "train_data = data[:n]\n",
    "val_data = data[n:]"
   ]
  },
  {
   "cell_type": "code",
   "execution_count": 27,
   "metadata": {},
   "outputs": [
    {
     "data": {
      "text/plain": [
       "tensor([18, 47, 56, 57, 58,  1, 15, 47, 58])"
      ]
     },
     "execution_count": 27,
     "metadata": {},
     "output_type": "execute_result"
    }
   ],
   "source": [
    "# Checking input to the model + 1\n",
    "block_size = 8\n",
    "train_data[: block_size + 1]"
   ]
  },
  {
   "cell_type": "code",
   "execution_count": 30,
   "metadata": {},
   "outputs": [
    {
     "name": "stdout",
     "output_type": "stream",
     "text": [
      "when input is tensor([18]), the target is 47\n",
      "when input is tensor([18, 47]), the target is 56\n",
      "when input is tensor([18, 47, 56]), the target is 57\n",
      "when input is tensor([18, 47, 56, 57]), the target is 58\n",
      "when input is tensor([18, 47, 56, 57, 58]), the target is 1\n",
      "when input is tensor([18, 47, 56, 57, 58,  1]), the target is 15\n",
      "when input is tensor([18, 47, 56, 57, 58,  1, 15]), the target is 47\n",
      "when input is tensor([18, 47, 56, 57, 58,  1, 15, 47]), the target is 58\n"
     ]
    }
   ],
   "source": [
    "# Printing the input and target sequences\n",
    "\n",
    "x = train_data[:block_size]\n",
    "y = train_data[1 : block_size + 1]\n",
    "\n",
    "for t in range(block_size):\n",
    "    context = x[: t + 1]\n",
    "    target = y[t]\n",
    "    print(f\"when input is {context}, the target is {target}\")"
   ]
  },
  {
   "cell_type": "code",
   "execution_count": 32,
   "metadata": {},
   "outputs": [
    {
     "name": "stdout",
     "output_type": "stream",
     "text": [
      "inputs:\n",
      "torch.Size([4, 8])\n",
      "tensor([[54, 43, 39, 49,  8,  0,  0, 18],\n",
      "        [46, 43, 63,  1, 58, 46, 47, 52],\n",
      "        [ 0,  0, 18, 47, 56, 57, 58,  1],\n",
      "        [45, 53, 53, 42,  1, 41, 47, 58]])\n",
      "targets:\n",
      "torch.Size([4, 8])\n",
      "tensor([[43, 39, 49,  8,  0,  0, 18, 47],\n",
      "        [43, 63,  1, 58, 46, 47, 52, 49],\n",
      "        [ 0, 18, 47, 56, 57, 58,  1, 15],\n",
      "        [53, 53, 42,  1, 41, 47, 58, 47]])\n",
      "---------\n",
      "when input is [54], the target is 43\n",
      "when input is [54, 43], the target is 39\n",
      "when input is [54, 43, 39], the target is 49\n",
      "when input is [54, 43, 39, 49], the target is 8\n",
      "when input is [54, 43, 39, 49, 8], the target is 0\n",
      "when input is [54, 43, 39, 49, 8, 0], the target is 0\n",
      "when input is [54, 43, 39, 49, 8, 0, 0], the target is 18\n",
      "when input is [54, 43, 39, 49, 8, 0, 0, 18], the target is 47\n",
      "when input is [46], the target is 43\n",
      "when input is [46, 43], the target is 63\n",
      "when input is [46, 43, 63], the target is 1\n",
      "when input is [46, 43, 63, 1], the target is 58\n",
      "when input is [46, 43, 63, 1, 58], the target is 46\n",
      "when input is [46, 43, 63, 1, 58, 46], the target is 47\n",
      "when input is [46, 43, 63, 1, 58, 46, 47], the target is 52\n",
      "when input is [46, 43, 63, 1, 58, 46, 47, 52], the target is 49\n",
      "when input is [0], the target is 0\n",
      "when input is [0, 0], the target is 18\n",
      "when input is [0, 0, 18], the target is 47\n",
      "when input is [0, 0, 18, 47], the target is 56\n",
      "when input is [0, 0, 18, 47, 56], the target is 57\n",
      "when input is [0, 0, 18, 47, 56, 57], the target is 58\n",
      "when input is [0, 0, 18, 47, 56, 57, 58], the target is 1\n",
      "when input is [0, 0, 18, 47, 56, 57, 58, 1], the target is 15\n",
      "when input is [45], the target is 53\n",
      "when input is [45, 53], the target is 53\n",
      "when input is [45, 53, 53], the target is 42\n",
      "when input is [45, 53, 53, 42], the target is 1\n",
      "when input is [45, 53, 53, 42, 1], the target is 41\n",
      "when input is [45, 53, 53, 42, 1, 41], the target is 47\n",
      "when input is [45, 53, 53, 42, 1, 41, 47], the target is 58\n",
      "when input is [45, 53, 53, 42, 1, 41, 47, 58], the target is 47\n"
     ]
    }
   ],
   "source": [
    "# Contructing the batches\n",
    "\n",
    "batch_size = 4\n",
    "block_size = 8\n",
    "\n",
    "\n",
    "def get_batch(split: str) -> Tuple[torch.Tensor, torch.Tensor]:\n",
    "    data = train_data if split == \"train\" else val_data\n",
    "    ix = torch.randint(len(data) - block_size, (batch_size,))\n",
    "    x = torch.stack([data[i : i + block_size] for i in ix])\n",
    "    y = torch.stack([data[i + 1 : i + block_size + 1] for i in ix])\n",
    "    return x, y\n",
    "\n",
    "\n",
    "xb, yb = get_batch(\"train\")\n",
    "print(\"inputs:\")\n",
    "print(xb.shape)\n",
    "print(xb)\n",
    "print(\"targets:\")\n",
    "print(yb.shape)\n",
    "print(yb)\n",
    "\n",
    "print(\"---------\")\n",
    "\n",
    "for b in range(batch_size):\n",
    "    for t in range(block_size):\n",
    "        context = xb[b, : t + 1]\n",
    "        target = yb[b, t]\n",
    "        print(f\"when input is {context.tolist()}, the target is {target}\")"
   ]
  },
  {
   "attachments": {},
   "cell_type": "markdown",
   "metadata": {},
   "source": [
    "## Bigram part"
   ]
  },
  {
   "cell_type": "code",
   "execution_count": 56,
   "metadata": {},
   "outputs": [],
   "source": [
    "class BigramLanguageModel(nn.Module):\n",
    "    def __init__(self, vocab_size: int) -> None:\n",
    "        super().__init__()\n",
    "        self.token_embedding_table = nn.Embedding(vocab_size, vocab_size)\n",
    "\n",
    "    def forward(\n",
    "        self, idx: torch.Tensor, targets: Optional[torch.Tensor] = None\n",
    "    ) -> Tuple[torch.Tensor, Optional[torch.Tensor]]:\n",
    "        logits = self.token_embedding_table(\n",
    "            idx\n",
    "        )  # (batch_size, block_size, vocab_size) -> (B,T,C)\n",
    "\n",
    "        # If targets is None, we are in inference mode\n",
    "        if targets is None:\n",
    "            return logits, None\n",
    "\n",
    "        B, T, C = logits.shape\n",
    "        logits = logits.view(B * T, C)  # (batch_size * block_size, vocab_size)\n",
    "        targets = targets.view(-1)  # (batch_size * block_size)\n",
    "\n",
    "        loss = F.cross_entropy(logits, targets)\n",
    "\n",
    "        return logits, loss\n",
    "\n",
    "    def generate(self, idx: torch.Tensor, max_new_tokens: int) -> torch.Tensor:\n",
    "        \"\"\"\n",
    "        Generates new tokens given a sequence of tokens.\n",
    "\n",
    "        Args:\n",
    "            idx: (batch_size, block_size) tensor containing the tokens\n",
    "            max_new_tokens: maximum number of tokens to generate\n",
    "\n",
    "        Returns:\n",
    "            (batch_size, block_size + max_new_tokens) tensor containing the original tokens and the generated tokens\n",
    "        \"\"\"\n",
    "        for _ in range(max_new_tokens):\n",
    "            logits, _ = self(idx)\n",
    "\n",
    "            logits = logits[:, -1, :]  # (batch_size, vocab_size)\n",
    "            probs = F.softmax(logits, dim=-1)  # (batch_size, vocab_size)\n",
    "\n",
    "            idx_next = torch.multinomial(probs, 1)\n",
    "            idx = torch.cat([idx, idx_next], dim=1)\n",
    "\n",
    "        return idx"
   ]
  },
  {
   "cell_type": "code",
   "execution_count": 65,
   "metadata": {},
   "outputs": [
    {
     "name": "stdout",
     "output_type": "stream",
     "text": [
      "torch.Size([256, 65])\n",
      "tensor(4.5100, grad_fn=<NllLossBackward0>)\n",
      "\n",
      "llfIJ\n",
      "uaAb\n"
     ]
    }
   ],
   "source": [
    "# Checking out the model without training\n",
    "\n",
    "m = BigramLanguageModel(vocab_size)\n",
    "logits, loss = m(xb, yb)\n",
    "print(logits.shape)\n",
    "print(loss)\n",
    "\n",
    "idx = torch.zeros((1, 1), dtype=torch.int64)\n",
    "print(decode(m.generate(idx, max_new_tokens=10)[0].tolist()))"
   ]
  },
  {
   "cell_type": "code",
   "execution_count": 66,
   "metadata": {},
   "outputs": [],
   "source": [
    "# Configuring the optimizer\n",
    "\n",
    "optimizer = torch.optim.AdamW(m.parameters(), lr=1e-3)"
   ]
  },
  {
   "cell_type": "code",
   "execution_count": 67,
   "metadata": {},
   "outputs": [
    {
     "name": "stdout",
     "output_type": "stream",
     "text": [
      "2.023599624633789\n"
     ]
    }
   ],
   "source": [
    "# Defining the training loop\n",
    "batch_size = 32\n",
    "for steps in range(10000):\n",
    "    xb, yb = get_batch(\"train\")\n",
    "\n",
    "    logits, loss = m(xb, yb)\n",
    "    optimizer.zero_grad(set_to_none=True)\n",
    "    loss.backward()\n",
    "    optimizer.step()\n",
    "\n",
    "print(loss.item())"
   ]
  },
  {
   "cell_type": "code",
   "execution_count": 68,
   "metadata": {},
   "outputs": [
    {
     "name": "stdout",
     "output_type": "stream",
     "text": [
      "\n",
      "Fit wecir uis d Cis, led lve t pars t wn ustheshe ow'l, l penXzear\n",
      "Noulafayitird.\n",
      "bellved t ars tis antild plus ansondave itho\n",
      "Fitieaunghe'lve ce paice Mansuthe t.\n",
      "\n",
      "Fiecushabun:\n",
      "Fizes: urestilvex\n",
      "\n",
      "\n",
      "\n",
      "Wes Mactoussules thise wen rstopey sorthit an: atine\n",
      "Wer, ir:\n",
      "\n",
      "S; d ito metht iusurf t u k wen't ictqffourthey; hacceve ghirs bjesus't.\n",
      "Le:\n",
      "so am, ren Cincous m, uiknmHx3Poonne rcthum, reranerizeakit ons Citit, Cizer as ey, ary!\n",
      "\n",
      "\n",
      "\n",
      "Wery, ut oris r:\n",
      "Wed s kin:\n",
      "Bemichen:\n",
      "wn:\n",
      "Ald orspl:\n",
      "ispa or thaw'the\n"
     ]
    }
   ],
   "source": [
    "idx = torch.zeros((1, 1), dtype=torch.int64)\n",
    "print(decode(m.generate(idx, max_new_tokens=500)[0].tolist()))"
   ]
  },
  {
   "attachments": {},
   "cell_type": "markdown",
   "metadata": {},
   "source": [
    "## Baby steps to Attention"
   ]
  },
  {
   "cell_type": "code",
   "execution_count": 35,
   "metadata": {},
   "outputs": [
    {
     "name": "stdout",
     "output_type": "stream",
     "text": [
      "tensor([[[-0.8345,  0.5978],\n",
      "         [-0.0514, -0.0646],\n",
      "         [-0.4970,  0.4658],\n",
      "         [-0.2573, -1.0673],\n",
      "         [ 2.0089, -0.5370],\n",
      "         [ 0.2228,  0.6971],\n",
      "         [-1.4267,  0.9059],\n",
      "         [ 0.1446,  0.2280]],\n",
      "\n",
      "        [[ 2.4900, -1.2237],\n",
      "         [ 1.0107,  0.5560],\n",
      "         [-1.5935, -1.2706],\n",
      "         [ 0.6903, -0.1961],\n",
      "         [ 0.3449, -0.3419],\n",
      "         [ 0.4759, -0.7663],\n",
      "         [-0.4190, -0.4370],\n",
      "         [-1.0012, -0.4094]],\n",
      "\n",
      "        [[-1.6669, -1.3651],\n",
      "         [-0.1655,  0.9623],\n",
      "         [ 0.0315, -0.7419],\n",
      "         [-0.2978,  0.0172],\n",
      "         [-0.1772, -0.1334],\n",
      "         [ 0.2940,  1.3850],\n",
      "         [ 0.1209,  2.5418],\n",
      "         [-0.6405, -1.9740]],\n",
      "\n",
      "        [[-0.3296,  0.0080],\n",
      "         [ 0.9262, -1.8846],\n",
      "         [ 0.1670,  0.4586],\n",
      "         [-1.7662,  0.5860],\n",
      "         [ 1.7510,  0.2807],\n",
      "         [ 0.3110, -0.6538],\n",
      "         [-0.6576,  0.3184],\n",
      "         [-0.5496, -1.4649]]])\n"
     ]
    },
    {
     "data": {
      "text/plain": [
       "torch.Size([4, 8, 2])"
      ]
     },
     "execution_count": 35,
     "metadata": {},
     "output_type": "execute_result"
    }
   ],
   "source": [
    "# Creating toy example\n",
    "\n",
    "B, T, C = 4, 8, 2\n",
    "x = torch.randn(B, T, C)\n",
    "print(x)\n",
    "x.shape"
   ]
  },
  {
   "cell_type": "code",
   "execution_count": 57,
   "metadata": {},
   "outputs": [],
   "source": [
    "xbow = torch.zeros((B, T, C))\n",
    "for b in range(B):\n",
    "    for t in range(T):\n",
    "        xprev = x[b, :t+1] # (t, C)\n",
    "        xbow[b, t] = xprev.mean(dim=0) # (C)"
   ]
  },
  {
   "cell_type": "code",
   "execution_count": 45,
   "metadata": {},
   "outputs": [
    {
     "data": {
      "text/plain": [
       "tensor([[-0.8345,  0.5978],\n",
       "        [-0.0514, -0.0646],\n",
       "        [-0.4970,  0.4658],\n",
       "        [-0.2573, -1.0673],\n",
       "        [ 2.0089, -0.5370],\n",
       "        [ 0.2228,  0.6971],\n",
       "        [-1.4267,  0.9059],\n",
       "        [ 0.1446,  0.2280]])"
      ]
     },
     "execution_count": 45,
     "metadata": {},
     "output_type": "execute_result"
    }
   ],
   "source": [
    "x[0]"
   ]
  },
  {
   "cell_type": "code",
   "execution_count": 46,
   "metadata": {},
   "outputs": [
    {
     "data": {
      "text/plain": [
       "tensor([[-0.8345,  0.5978],\n",
       "        [-0.4429,  0.2666],\n",
       "        [-0.4610,  0.3330],\n",
       "        [-0.4100, -0.0171],\n",
       "        [ 0.0738, -0.1210],\n",
       "        [ 0.0986,  0.0153],\n",
       "        [-0.1193,  0.1425],\n",
       "        [-0.0863,  0.1532]])"
      ]
     },
     "execution_count": 46,
     "metadata": {},
     "output_type": "execute_result"
    }
   ],
   "source": [
    "xbow[0]"
   ]
  },
  {
   "cell_type": "code",
   "execution_count": 48,
   "metadata": {},
   "outputs": [
    {
     "name": "stdout",
     "output_type": "stream",
     "text": [
      "a=\n",
      "tensor([[1., 1., 1.],\n",
      "        [1., 1., 1.],\n",
      "        [1., 1., 1.]]) torch.Size([3, 3])\n",
      "------\n",
      "b=\n",
      "tensor([[2., 7.],\n",
      "        [6., 4.],\n",
      "        [6., 5.]]) torch.Size([3, 2])\n",
      "------\n",
      "c=\n",
      "tensor([[14., 16.],\n",
      "        [14., 16.],\n",
      "        [14., 16.]]) torch.Size([3, 2])\n"
     ]
    }
   ],
   "source": [
    "# Slightly better way to do it\n",
    "torch.manual_seed(42)\n",
    "\n",
    "a = torch.ones(3, 3)\n",
    "b = torch.randint(0, 10, (3, 2), dtype=torch.float32)\n",
    "c = a @ b\n",
    "print(\"a=\")\n",
    "print(a, a.shape)\n",
    "print(\"------\")\n",
    "print(\"b=\")\n",
    "print(b, b.shape)\n",
    "print(\"------\")\n",
    "print(\"c=\")\n",
    "print(c, c.shape)\n"
   ]
  },
  {
   "cell_type": "code",
   "execution_count": 49,
   "metadata": {},
   "outputs": [
    {
     "data": {
      "text/plain": [
       "tensor([[1., 0., 0.],\n",
       "        [1., 1., 0.],\n",
       "        [1., 1., 1.]])"
      ]
     },
     "execution_count": 49,
     "metadata": {},
     "output_type": "execute_result"
    }
   ],
   "source": [
    "# Triangular matrix\n",
    "torch.tril(torch.ones(3, 3))"
   ]
  },
  {
   "cell_type": "code",
   "execution_count": 50,
   "metadata": {},
   "outputs": [
    {
     "name": "stdout",
     "output_type": "stream",
     "text": [
      "a=\n",
      "tensor([[1., 0., 0.],\n",
      "        [1., 1., 0.],\n",
      "        [1., 1., 1.]]) torch.Size([3, 3])\n",
      "------\n",
      "b=\n",
      "tensor([[2., 7.],\n",
      "        [6., 4.],\n",
      "        [6., 5.]]) torch.Size([3, 2])\n",
      "------\n",
      "c=\n",
      "tensor([[ 2.,  7.],\n",
      "        [ 8., 11.],\n",
      "        [14., 16.]]) torch.Size([3, 2])\n"
     ]
    }
   ],
   "source": [
    "# Slightly better way to do it\n",
    "torch.manual_seed(42)\n",
    "\n",
    "a = torch.tril(torch.ones(3, 3))\n",
    "b = torch.randint(0, 10, (3, 2), dtype=torch.float32)\n",
    "c = a @ b\n",
    "print(\"a=\")\n",
    "print(a, a.shape)\n",
    "print(\"------\")\n",
    "print(\"b=\")\n",
    "print(b, b.shape)\n",
    "print(\"------\")\n",
    "print(\"c=\")\n",
    "print(c, c.shape)\n"
   ]
  },
  {
   "cell_type": "code",
   "execution_count": 54,
   "metadata": {},
   "outputs": [
    {
     "name": "stdout",
     "output_type": "stream",
     "text": [
      "a=\n",
      "tensor([[1.0000, 0.0000, 0.0000],\n",
      "        [0.5000, 0.5000, 0.0000],\n",
      "        [0.3333, 0.3333, 0.3333]]) torch.Size([3, 3])\n",
      "------\n",
      "b=\n",
      "tensor([[2., 7.],\n",
      "        [6., 4.],\n",
      "        [6., 5.]]) torch.Size([3, 2])\n",
      "------\n",
      "c=\n",
      "tensor([[2.0000, 7.0000],\n",
      "        [4.0000, 5.5000],\n",
      "        [4.6667, 5.3333]]) torch.Size([3, 2])\n"
     ]
    }
   ],
   "source": [
    "# sum([1, 2, 3, 4, 5]) / n = 1/n + 2/n + 3/n + 4/n + 5/n\n",
    "\n",
    "torch.manual_seed(42)\n",
    "\n",
    "a = torch.tril(torch.ones(3, 3))\n",
    "a /= a.sum(dim=1, keepdim=True)\n",
    "b = torch.randint(0, 10, (3, 2), dtype=torch.float32)\n",
    "c = a @ b\n",
    "print(\"a=\")\n",
    "print(a, a.shape)\n",
    "print(\"------\")\n",
    "print(\"b=\")\n",
    "print(b, b.shape)\n",
    "print(\"------\")\n",
    "print(\"c=\")\n",
    "print(c, c.shape)"
   ]
  },
  {
   "cell_type": "code",
   "execution_count": 55,
   "metadata": {},
   "outputs": [
    {
     "data": {
      "text/plain": [
       "tensor([[1.0000, 0.0000, 0.0000, 0.0000, 0.0000, 0.0000, 0.0000, 0.0000],\n",
       "        [0.5000, 0.5000, 0.0000, 0.0000, 0.0000, 0.0000, 0.0000, 0.0000],\n",
       "        [0.3333, 0.3333, 0.3333, 0.0000, 0.0000, 0.0000, 0.0000, 0.0000],\n",
       "        [0.2500, 0.2500, 0.2500, 0.2500, 0.0000, 0.0000, 0.0000, 0.0000],\n",
       "        [0.2000, 0.2000, 0.2000, 0.2000, 0.2000, 0.0000, 0.0000, 0.0000],\n",
       "        [0.1667, 0.1667, 0.1667, 0.1667, 0.1667, 0.1667, 0.0000, 0.0000],\n",
       "        [0.1429, 0.1429, 0.1429, 0.1429, 0.1429, 0.1429, 0.1429, 0.0000],\n",
       "        [0.1250, 0.1250, 0.1250, 0.1250, 0.1250, 0.1250, 0.1250, 0.1250]])"
      ]
     },
     "execution_count": 55,
     "metadata": {},
     "output_type": "execute_result"
    }
   ],
   "source": [
    "# Making it even better\n",
    "wei = torch.tril(torch.ones(T, T))\n",
    "wei /= wei.sum(dim=1, keepdim=True)\n",
    "wei"
   ]
  },
  {
   "cell_type": "code",
   "execution_count": 56,
   "metadata": {},
   "outputs": [
    {
     "data": {
      "text/plain": [
       "tensor([[-0.8345,  0.5978],\n",
       "        [-0.4429,  0.2666],\n",
       "        [-0.4610,  0.3330],\n",
       "        [-0.4100, -0.0171],\n",
       "        [ 0.0738, -0.1210],\n",
       "        [ 0.0986,  0.0153],\n",
       "        [-0.1193,  0.1425],\n",
       "        [-0.0863,  0.1532]])"
      ]
     },
     "execution_count": 56,
     "metadata": {},
     "output_type": "execute_result"
    }
   ],
   "source": [
    "wei = torch.tril(torch.ones((T, T)))\n",
    "wei = wei / wei.sum(dim=1, keepdim=True)\n",
    "xbow2 = wei @ x\n",
    "xbow2[0]"
   ]
  },
  {
   "cell_type": "code",
   "execution_count": null,
   "metadata": {},
   "outputs": [],
   "source": [
    "# Per   gatve perbego miauksedamas juodas gyvunas su uodega  -    \n",
    "# 0.125 0.125 0.125   0.125  0.3   0.125   0.3    0.125"
   ]
  },
  {
   "cell_type": "code",
   "execution_count": 73,
   "metadata": {},
   "outputs": [
    {
     "data": {
      "text/plain": [
       "True"
      ]
     },
     "execution_count": 73,
     "metadata": {},
     "output_type": "execute_result"
    }
   ],
   "source": [
    "# the most optimal version using softmax\n",
    "\n",
    "tril = torch.tril(torch.ones((T, T)))\n",
    "wei = torch.zeros((T, T))\n",
    "wei = wei.masked_fill(tril == 0, float(\"-inf\"))\n",
    "wei = F.softmax(wei, dim=1)\n",
    "xbow3 = wei @ x\n",
    "torch.allclose(xbow2, xbow3)"
   ]
  },
  {
   "cell_type": "code",
   "execution_count": 74,
   "metadata": {},
   "outputs": [
    {
     "data": {
      "text/plain": [
       "tensor([[[-0.8345,  0.5978],\n",
       "         [-0.4429,  0.2666],\n",
       "         [-0.4610,  0.3330],\n",
       "         [-0.4100, -0.0171],\n",
       "         [ 0.0738, -0.1210],\n",
       "         [ 0.0986,  0.0153],\n",
       "         [-0.1193,  0.1425],\n",
       "         [-0.0863,  0.1532]],\n",
       "\n",
       "        [[ 2.4900, -1.2237],\n",
       "         [ 1.7503, -0.3338],\n",
       "         [ 0.6357, -0.6461],\n",
       "         [ 0.6494, -0.5336],\n",
       "         [ 0.5885, -0.4953],\n",
       "         [ 0.5697, -0.5404],\n",
       "         [ 0.4285, -0.5257],\n",
       "         [ 0.2498, -0.5111]],\n",
       "\n",
       "        [[-1.6669, -1.3651],\n",
       "         [-0.9162, -0.2014],\n",
       "         [-0.6003, -0.3816],\n",
       "         [-0.5247, -0.2819],\n",
       "         [-0.4552, -0.2522],\n",
       "         [-0.3303,  0.0206],\n",
       "         [-0.2659,  0.3808],\n",
       "         [-0.3127,  0.0865]],\n",
       "\n",
       "        [[-0.3296,  0.0080],\n",
       "         [ 0.2983, -0.9383],\n",
       "         [ 0.2545, -0.4727],\n",
       "         [-0.2506, -0.2080],\n",
       "         [ 0.1497, -0.1103],\n",
       "         [ 0.1766, -0.2008],\n",
       "         [ 0.0574, -0.1267],\n",
       "         [-0.0185, -0.2939]]])"
      ]
     },
     "execution_count": 74,
     "metadata": {},
     "output_type": "execute_result"
    }
   ],
   "source": [
    "xbow2"
   ]
  },
  {
   "cell_type": "code",
   "execution_count": 75,
   "metadata": {},
   "outputs": [
    {
     "data": {
      "text/plain": [
       "tensor([[[-0.8345,  0.5978],\n",
       "         [-0.4429,  0.2666],\n",
       "         [-0.4610,  0.3330],\n",
       "         [-0.4100, -0.0171],\n",
       "         [ 0.0738, -0.1210],\n",
       "         [ 0.0986,  0.0153],\n",
       "         [-0.1193,  0.1425],\n",
       "         [-0.0863,  0.1532]],\n",
       "\n",
       "        [[ 2.4900, -1.2237],\n",
       "         [ 1.7503, -0.3338],\n",
       "         [ 0.6357, -0.6461],\n",
       "         [ 0.6494, -0.5336],\n",
       "         [ 0.5885, -0.4953],\n",
       "         [ 0.5697, -0.5404],\n",
       "         [ 0.4285, -0.5257],\n",
       "         [ 0.2498, -0.5111]],\n",
       "\n",
       "        [[-1.6669, -1.3651],\n",
       "         [-0.9162, -0.2014],\n",
       "         [-0.6003, -0.3816],\n",
       "         [-0.5247, -0.2819],\n",
       "         [-0.4552, -0.2522],\n",
       "         [-0.3303,  0.0206],\n",
       "         [-0.2659,  0.3808],\n",
       "         [-0.3127,  0.0865]],\n",
       "\n",
       "        [[-0.3296,  0.0080],\n",
       "         [ 0.2983, -0.9383],\n",
       "         [ 0.2545, -0.4727],\n",
       "         [-0.2506, -0.2080],\n",
       "         [ 0.1497, -0.1103],\n",
       "         [ 0.1766, -0.2008],\n",
       "         [ 0.0574, -0.1267],\n",
       "         [-0.0185, -0.2939]]])"
      ]
     },
     "execution_count": 75,
     "metadata": {},
     "output_type": "execute_result"
    }
   ],
   "source": [
    "xbow3"
   ]
  },
  {
   "attachments": {},
   "cell_type": "markdown",
   "metadata": {},
   "source": [
    "## The Self-Attention part\n",
    "### IMPORTANT\n",
    "![](../attention.png)"
   ]
  },
  {
   "cell_type": "code",
   "execution_count": null,
   "metadata": {},
   "outputs": [],
   "source": [
    "# Per gatve perbego miauksedamas juodas gyvunas su uodega kate\n",
    "# Queries for these tokens are \"kate\", \"gyvunas\", \"uodega\"\n",
    "# Keys the these tokens are \"gyvunas, kuris miauksi\", \"gyvas organizmas, kuris nera zmogus\", \"gyvuno kuno dalis, kuri yra vizginama\""
   ]
  },
  {
   "cell_type": "code",
   "execution_count": 109,
   "metadata": {},
   "outputs": [],
   "source": [
    "torch.manual_seed(42)\n",
    "B, T, C = 4, 8, 32\n",
    "x = torch.randn(B, T, C)\n",
    "\n",
    "head_size = 16\n",
    "\n",
    "key = nn.Linear(C, head_size)\n",
    "query = nn.Linear(C, head_size)\n",
    "value = nn.Linear(C, head_size)\n",
    "\n",
    "k = key(x)\n",
    "q = query(x)\n",
    "\n",
    "wei = q @ k.transpose(-2, -1) # (B, T, head_size) @ (B, head_size, T) -> (B, T, T)\n",
    "\n",
    "tril = torch.tril(torch.ones((T, T)))\n",
    "wei = wei.masked_fill(tril == 0, float(\"-inf\"))\n",
    "wei = F.softmax(wei, dim=-1)\n",
    "\n",
    "v = value(x)\n",
    "out = wei @ v"
   ]
  },
  {
   "cell_type": "code",
   "execution_count": 111,
   "metadata": {},
   "outputs": [
    {
     "data": {
      "text/plain": [
       "torch.Size([8, 16])"
      ]
     },
     "execution_count": 111,
     "metadata": {},
     "output_type": "execute_result"
    }
   ],
   "source": [
    "out[0].shape"
   ]
  },
  {
   "cell_type": "code",
   "execution_count": 121,
   "metadata": {},
   "outputs": [],
   "source": [
    "k = torch.randn(B, T, head_size)\n",
    "q = torch.randn(B, T, head_size)\n",
    "wei = q @ k.transpose(-2, -1) * (head_size ** -0.5)"
   ]
  },
  {
   "cell_type": "code",
   "execution_count": 122,
   "metadata": {},
   "outputs": [
    {
     "data": {
      "text/plain": [
       "tensor(1.1770)"
      ]
     },
     "execution_count": 122,
     "metadata": {},
     "output_type": "execute_result"
    }
   ],
   "source": [
    "k.var()"
   ]
  },
  {
   "cell_type": "code",
   "execution_count": 123,
   "metadata": {},
   "outputs": [
    {
     "data": {
      "text/plain": [
       "tensor(1.0797)"
      ]
     },
     "execution_count": 123,
     "metadata": {},
     "output_type": "execute_result"
    }
   ],
   "source": [
    "q.var()"
   ]
  },
  {
   "cell_type": "code",
   "execution_count": 124,
   "metadata": {},
   "outputs": [
    {
     "data": {
      "text/plain": [
       "tensor(1.0607)"
      ]
     },
     "execution_count": 124,
     "metadata": {},
     "output_type": "execute_result"
    }
   ],
   "source": [
    "wei.var()"
   ]
  }
 ],
 "metadata": {
  "kernelspec": {
   "display_name": ".venv",
   "language": "python",
   "name": "python3"
  },
  "language_info": {
   "codemirror_mode": {
    "name": "ipython",
    "version": 3
   },
   "file_extension": ".py",
   "mimetype": "text/x-python",
   "name": "python",
   "nbconvert_exporter": "python",
   "pygments_lexer": "ipython3",
   "version": "3.10.6"
  },
  "orig_nbformat": 4
 },
 "nbformat": 4,
 "nbformat_minor": 2
}
